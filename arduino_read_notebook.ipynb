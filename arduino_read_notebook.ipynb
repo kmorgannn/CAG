{
 "cells": [
  {
   "cell_type": "code",
   "execution_count": 4,
   "metadata": {
    "collapsed": false
   },
   "outputs": [
    {
     "name": "stdout",
     "output_type": "stream",
     "text": [
      "Please don't leave!  Think of all the fun times we had together!\n"
     ]
    }
   ],
   "source": [
    "import sys, serial, argparse, csv, datetime\n",
    "from time import sleep\n",
    "    \n",
    "BAUD = 9600\n",
    "PORT = '/dev/cu.usbmodem1411'\n",
    "\n",
    "def print_data(ser):\n",
    "    line = ser.readline()\n",
    "    data = [float(val) for val in line.split()]\n",
    "    print(data)\n",
    "\n",
    "def testCSV():\n",
    "    csvfile = open('test_file.csv', 'a')\n",
    "    writer = csv.writer(csvfile, delimiter=',')\n",
    "    data = [1,2,3]\n",
    "    writer.writerow(data)\n",
    "    csvfile.close()\n",
    "\n",
    "\n",
    "def writeToCSV(ser):\n",
    "    # Your code goes here!\n",
    "    pass\n",
    "    \n",
    "\n",
    "# main() function\n",
    "def main():\n",
    "    testCSV()\n",
    "    ser = serial.Serial(PORT, BAUD)\n",
    "    try:\n",
    "        while True:\n",
    "            print_data(ser)\n",
    "    except KeyboardInterrupt:\n",
    "        print(\"Please don't leave!  Think of all the fun times we had together!\")\n",
    "    finally:\n",
    "        ser.flush()\n",
    "        ser.close()   \n",
    "\n",
    "main()"
   ]
  },
  {
   "cell_type": "code",
   "execution_count": null,
   "metadata": {
    "collapsed": true
   },
   "outputs": [],
   "source": []
  },
  {
   "cell_type": "code",
   "execution_count": null,
   "metadata": {
    "collapsed": true
   },
   "outputs": [],
   "source": []
  }
 ],
 "metadata": {
  "anaconda-cloud": {},
  "kernelspec": {
   "display_name": "Python [default]",
   "language": "python",
   "name": "python2"
  },
  "language_info": {
   "codemirror_mode": {
    "name": "ipython",
    "version": 2
   },
   "file_extension": ".py",
   "mimetype": "text/x-python",
   "name": "python",
   "nbconvert_exporter": "python",
   "pygments_lexer": "ipython2",
   "version": "2.7.12"
  }
 },
 "nbformat": 4,
 "nbformat_minor": 1
}
